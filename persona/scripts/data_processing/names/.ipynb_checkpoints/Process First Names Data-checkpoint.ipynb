{
 "cells": [
  {
   "cell_type": "code",
   "execution_count": 1,
   "id": "fc2dbdbf",
   "metadata": {},
   "outputs": [],
   "source": [
    "import csv\n",
    "import glob\n",
    "import os\n",
    "from collections import defaultdict\n",
    "import pandas as pd"
   ]
  },
  {
   "cell_type": "code",
   "execution_count": 2,
   "id": "bf944812",
   "metadata": {},
   "outputs": [],
   "source": [
    "# Dictionary to store the data\n",
    "# Using a tuple (name, gender) as the key and summing the frequency\n",
    "name_gender_frequency = defaultdict(int)"
   ]
  },
  {
   "cell_type": "code",
   "execution_count": 3,
   "id": "ef5392a1",
   "metadata": {},
   "outputs": [],
   "source": [
    "# Read the CSV file into a DataFrame\n",
    "df = pd.read_csv(r\"Popular_Baby_Names.csv\")\n",
    "\n",
    "# Specify the column names you want to extract\n",
    "columns_to_extract = ['Gender', \"Child's First Name\", 'Count']\n",
    "\n",
    "# Extract the specified columns\n",
    "df = df[columns_to_extract]\n",
    "\n",
    "# Rename columns\n",
    "df = df.rename(columns={\n",
    "    'Gender': 'gender',\n",
    "    \"Child's First Name\": 'first_name',\n",
    "    'Count': 'frequency'\n",
    "})\n",
    "\n",
    "for index, row in df.iterrows():\n",
    "    first_name = row['first_name'].strip().capitalize()\n",
    "    gender = row['gender'][0]\n",
    "    frequency = row['frequency']\n",
    "    \n",
    "\n",
    "    frequency = int(frequency)\n",
    "    # Use (name, gender) as the key and accumulate frequency\n",
    "    name_gender_frequency[(first_name, gender)] += frequency"
   ]
  },
  {
   "cell_type": "code",
   "execution_count": 4,
   "id": "98165512",
   "metadata": {},
   "outputs": [
    {
     "name": "stdout",
     "output_type": "stream",
     "text": [
      "There are 2059 names in the db.\n"
     ]
    }
   ],
   "source": [
    "print(f\"There are {len(name_gender_frequency)} names in the db.\")"
   ]
  },
  {
   "cell_type": "code",
   "execution_count": 5,
   "id": "561af71c",
   "metadata": {},
   "outputs": [],
   "source": [
    "# Path to the directory containing the .txt files\n",
    "file_path = r'names\\*.txt'\n",
    "\n",
    "# Specify the columns you want to extract (0-based indexing)\n",
    "columns_to_extract = [1, 3, 4]  # Name, Gender, Frequency\n",
    "\n",
    "\n",
    "# Loop through all .txt files in the specified directory\n",
    "for file_name in glob.glob(file_path):\n",
    "    #print(f\"\\nProcessing file: {os.path.basename(file_name)}\")\n",
    "    \n",
    "    # Open and read each file\n",
    "    with open(file_name, mode='r', newline='') as file:\n",
    "        reader = csv.reader(file)\n",
    "        \n",
    "        # Extract and accumulate the specified columns\n",
    "        for row in reader:\n",
    "\n",
    "            first_name = row[0].strip()\n",
    "            gender = row[1].strip()\n",
    "            frequency = row[2].strip()\n",
    "            frequency = int(frequency)\n",
    "            \n",
    "            #print(first_name, gender, frequency)\n",
    "            \n",
    "            #print(f\"\\nProcessing file: {os.path.basename(file_name)}, {first_name} - {gender} - {frequency}\")\n",
    "            # Use (name, gender) as the key and accumulate frequency\n",
    "            name_gender_frequency[(first_name, gender)] += frequency"
   ]
  },
  {
   "cell_type": "code",
   "execution_count": 6,
   "id": "6bffaa59",
   "metadata": {},
   "outputs": [
    {
     "name": "stdout",
     "output_type": "stream",
     "text": [
      "There are 115167 names in the db.\n"
     ]
    }
   ],
   "source": [
    "print(f\"There are {len(name_gender_frequency)} names in the db.\")"
   ]
  },
  {
   "cell_type": "code",
   "execution_count": 7,
   "id": "a5239b0f",
   "metadata": {},
   "outputs": [],
   "source": [
    "# Dictionary to store the data\n",
    "# Using a tuple (name, gender) as the key and summing the frequency\n",
    "name_gender_frequency = defaultdict(int)\n",
    "\n",
    "\n",
    "# Path to the directory containing the .txt files\n",
    "file_path = r'namesbystate\\*.txt'\n",
    "\n",
    "# Specify the columns you want to extract (0-based indexing)\n",
    "columns_to_extract = [1, 3, 4]  # Name, Gender, Frequency\n",
    "\n",
    "\n",
    "# Loop through all .txt files in the specified directory\n",
    "for file_name in glob.glob(file_path):\n",
    "    #print(f\"\\nProcessing file: {os.path.basename(file_name)}\")\n",
    "    \n",
    "    # Open and read each file\n",
    "    with open(file_name, mode='r', newline='') as file:\n",
    "        reader = csv.reader(file)\n",
    "        \n",
    "        # Extract and accumulate the specified columns\n",
    "        for row in reader:\n",
    "            first_name = row[3].strip()\n",
    "            gender = row[1].strip()\n",
    "            frequency = row[4].strip()\n",
    "            frequency = int(frequency)\n",
    "            \n",
    "            \n",
    "            #print(f\"\\nProcessing file: {os.path.basename(file_name)}, {first_name} - {gender} - {frequency}\")\n",
    "            \n",
    "            # Use (name, gender) as the key and accumulate frequency\n",
    "            name_gender_frequency[(first_name, gender)] += frequency"
   ]
  },
  {
   "cell_type": "code",
   "execution_count": 8,
   "id": "2d10f0d6",
   "metadata": {},
   "outputs": [
    {
     "name": "stdout",
     "output_type": "stream",
     "text": [
      "There are 36277 names in the db.\n"
     ]
    }
   ],
   "source": [
    "print(f\"There are {len(name_gender_frequency)} names in the db.\")"
   ]
  },
  {
   "cell_type": "code",
   "execution_count": 9,
   "id": "f0bd7e65",
   "metadata": {},
   "outputs": [
    {
     "name": "stdout",
     "output_type": "stream",
     "text": [
      "Finished processing files.\n"
     ]
    }
   ],
   "source": [
    "print('Finished processing files.')"
   ]
  },
  {
   "cell_type": "code",
   "execution_count": 10,
   "id": "90720f8d",
   "metadata": {},
   "outputs": [
    {
     "name": "stdout",
     "output_type": "stream",
     "text": [
      "\n",
      "Aggregated results saved to: aggregated_results.csv\n"
     ]
    }
   ],
   "source": [
    "# Step 4: Display the accumulated dictionary sorted by frequency\n",
    "sorted_results = sorted(name_gender_frequency.items(), key=lambda x: x[1], reverse=True)\n",
    "\n",
    "# Step 5: Export the sorted results to a CSV file\n",
    "output_file = r'aggregated_results.csv'\n",
    "with open(output_file, mode='w', newline='') as file:\n",
    "    writer = csv.writer(file)\n",
    "    writer.writerow(['First Name', 'Gender', 'Frequency'])  # Header row\n",
    "    \n",
    "    # Write each item from the sorted list\n",
    "    for (first_name, gender), frequency in sorted_results:\n",
    "        writer.writerow([first_name, gender, frequency])\n",
    "\n",
    "print(f\"\\nAggregated results saved to: {output_file}\")"
   ]
  },
  {
   "cell_type": "code",
   "execution_count": null,
   "id": "3b348999",
   "metadata": {},
   "outputs": [],
   "source": []
  },
  {
   "cell_type": "code",
   "execution_count": null,
   "id": "cd64578c",
   "metadata": {},
   "outputs": [],
   "source": []
  }
 ],
 "metadata": {
  "kernelspec": {
   "display_name": "Python 3 (ipykernel)",
   "language": "python",
   "name": "python3"
  },
  "language_info": {
   "codemirror_mode": {
    "name": "ipython",
    "version": 3
   },
   "file_extension": ".py",
   "mimetype": "text/x-python",
   "name": "python",
   "nbconvert_exporter": "python",
   "pygments_lexer": "ipython3",
   "version": "3.11.7"
  }
 },
 "nbformat": 4,
 "nbformat_minor": 5
}
